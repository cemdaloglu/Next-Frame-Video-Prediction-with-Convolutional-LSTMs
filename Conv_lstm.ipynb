{
  "cells": [
    {
      "cell_type": "code",
      "source": [
        "import os\n",
        "#os.environ['CUDA_LAUNCH_BLOCKING'] = \"1\"\n",
        "import torch\n",
        "import torch.nn as nn\n",
        "from torch.autograd import Variable\n",
        "\n",
        "\n",
        "class ConvLSTMCell(nn.Module):\n",
        "    def __init__(self, input_channels, hidden_channels, kernel_size):\n",
        "        super(ConvLSTMCell, self).__init__()\n",
        "\n",
        "        assert hidden_channels % 2 == 0\n",
        "\n",
        "        self.input_channels = input_channels\n",
        "        self.hidden_channels = hidden_channels\n",
        "        self.kernel_size = kernel_size\n",
        "\n",
        "        self.padding = int((kernel_size - 1) / 2)\n",
        "\n",
        "        self.Wxi = nn.Conv2d(self.input_channels, self.hidden_channels, self.kernel_size, 1, self.padding, bias=True)\n",
        "        self.Uhi = nn.Conv2d(self.hidden_channels, self.hidden_channels, self.kernel_size, 1, self.padding, bias=False)\n",
        "        self.Wxf = nn.Conv2d(self.input_channels, self.hidden_channels, self.kernel_size, 1, self.padding, bias=True)\n",
        "        self.Uhf = nn.Conv2d(self.hidden_channels, self.hidden_channels, self.kernel_size, 1, self.padding, bias=False)\n",
        "        self.Wxc = nn.Conv2d(self.input_channels, self.hidden_channels, self.kernel_size, 1, self.padding, bias=True)\n",
        "        self.Uhc = nn.Conv2d(self.hidden_channels, self.hidden_channels, self.kernel_size, 1, self.padding, bias=False)\n",
        "        self.Wxo = nn.Conv2d(self.input_channels, self.hidden_channels, self.kernel_size, 1, self.padding, bias=True)\n",
        "        self.Uho = nn.Conv2d(self.hidden_channels, self.hidden_channels, self.kernel_size, 1, self.padding, bias=False)\n",
        "\n",
        "        self.Vi = None\n",
        "        self.Vf = None\n",
        "        self.Vo = None\n",
        "\n",
        "    def forward(self, x, h, c):\n",
        "        it = torch.sigmoid(self.Wxi(x) + self.Uhi(h) + c * self.Vi)\n",
        "        ft = torch.sigmoid(self.Wxf(x) + self.Uhf(h) + c * self.Vf)\n",
        "        ct = ft * c + it * torch.tanh(self.Wxc(x) + self.Uhc(h))\n",
        "        ot = torch.sigmoid(self.Wxo(x) + self.Uho(h) + ct * self.Vo)\n",
        "        ht = ot * torch.tanh(ct)\n",
        "        return ht, ct\n",
        "\n",
        "    def init_hidden(self, batch_size, hidden, shape):\n",
        "        if self.Vi is None:\n",
        "            self.Vi = nn.Parameter(torch.zeros(1, hidden, shape[0], shape[1])).to(device)\n",
        "            self.Vf = nn.Parameter(torch.zeros(1, hidden, shape[0], shape[1])).to(device)\n",
        "            self.Vo = nn.Parameter(torch.zeros(1, hidden, shape[0], shape[1])).to(device)\n",
        "        else:\n",
        "            assert shape[0] == self.Vi.size()[2], 'Input Height Mismatched!'\n",
        "            assert shape[1] == self.Vi.size()[3], 'Input Width Mismatched!'\n",
        "        return (Variable(torch.zeros(batch_size, hidden, shape[0], shape[1])).to(device),\n",
        "                Variable(torch.zeros(batch_size, hidden, shape[0], shape[1])).to(device))\n",
        "\n",
        "\n",
        "class ConvLSTM(nn.Module):\n",
        "    def __init__(self, input_channels, hidden_channels, kernel_sizes, step=1):\n",
        "        super(ConvLSTM, self).__init__()\n",
        "        self.input_channels = [input_channels] + hidden_channels[:-1]\n",
        "        self.hidden_channels = hidden_channels\n",
        "        self.kernel_sizes = kernel_sizes\n",
        "        self.step = step\n",
        "\n",
        "        assert len(self.input_channels) == len(self.hidden_channels) == len(self.kernel_sizes) == self.step\n",
        "\n",
        "        self.relu_layer = nn.ReLU(inplace=False)\n",
        "        self.sigmoid_layer = nn.Sigmoid()\n",
        "        self.conv_last = nn.Conv2d(self.hidden_channels[-1], 1, kernel_size=3, stride=1, padding=1)\n",
        "        for i in range(self.step):\n",
        "            cell = ConvLSTMCell(self.input_channels[i], self.hidden_channels[i], self.kernel_sizes[i])\n",
        "            setattr(self, 'cell{}'.format(i), cell)\n",
        "            setattr(self, 'batchN{}'.format(i), nn.BatchNorm2d(hidden_channels[i]))\n",
        "\n",
        "    def forward(self, input):\n",
        "      outputs = []\n",
        "      for seq in range(input.shape[1]):\n",
        "        x = input[:, seq, ...].permute(0, 3, 1, 2)\n",
        "        for i in range(self.step):\n",
        "          \n",
        "          name = 'cell{}'.format(i)\n",
        "          \n",
        "          if seq == 0:\n",
        "            bsize, _, height, width = x.size()\n",
        "            (h, c) = getattr(self, name).init_hidden(batch_size=bsize, hidden=self.hidden_channels[i],\n",
        "                                                    shape=(height, width))\n",
        "\n",
        "\n",
        "          if seq != 0:\n",
        "            h, c = getattr(self, 'h_{}_{}'.format(seq-1, i)), getattr(self, 'c_{}_{}'.format(seq-1, i))\n",
        "          new_h, new_c = getattr(self, name)(x.float(), h.float(), c.float())\n",
        "          x = new_h\n",
        "          x = self.relu_layer(x)\n",
        "          x = getattr(self, 'batchN{}'.format(i))(x)\n",
        "          setattr(self, 'h_{}_{}'.format(seq, i), new_h)\n",
        "          setattr(self, 'c_{}_{}'.format(seq, i), new_c)\n",
        "\n",
        "        x = self.conv_last(x)\n",
        "        x = self.sigmoid_layer(x)\n",
        "        outputs.append(x)\n",
        "\n",
        "      return outputs"
      ],
      "metadata": {
        "id": "-B44IJ8g4W2a"
      },
      "execution_count": null,
      "outputs": []
    },
    {
      "cell_type": "code",
      "source": [
        "from matplotlib.legend import StepPatch\n",
        "\n",
        "\n",
        "class DownBlock(nn.Module):\n",
        "    def __init__(self, in_channels, out_channels, step, dropout_prob):\n",
        "        super(DownBlock, self).__init__()\n",
        "        channelsList = step*[out_channels[-1]]\n",
        "        self.convlstm = ConvLSTM(in_channels, channelsList, step=step, dropout_prob=dropout_prob)\n",
        "        self.down_sample = nn.MaxPool2d(2)\n",
        "\n",
        "    def forward(self, x):\n",
        "        skip_out = self.convlstm(x)\n",
        "        down_out = self.down_sample(skip_out)\n",
        "        return down_out, skip_out\n",
        "\n",
        "\n",
        "class UpBlock(nn.Module):\n",
        "    def __init__(self, in_channels, out_channels, step, dropout_prob):\n",
        "        super(UpBlock, self).__init__()\n",
        "        channelsList = step*[out_channels[-1]]\n",
        "        self.up_sample = nn.ConvTranspose2d(in_channels - out_channels[0], in_channels - out_channels[0], kernel_size=2,\n",
        "                                            stride=2)\n",
        "        self.convlstm = ConvLSTM(in_channels, channelsList, step=step, dropout_prob=dropout_prob)\n",
        "\n",
        "    def forward(self, down_input, skip_input):\n",
        "        x = self.up_sample(down_input)\n",
        "        x = torch.cat([x, skip_input], dim=1)\n",
        "        return self.convlstm(x)\n",
        "\n",
        "\n",
        "class UNet(nn.Module):\n",
        "    def __init__(self, out_classes=1, filterList=[1, 64], step=3, dropout_prob=0.4):\n",
        "        super(UNet, self).__init__()\n",
        "        self.filterSize = len(filterList)\n",
        "\n",
        "        \"\"\"# Downsampling Path\n",
        "        for i in range(1, len(filterList)-1):\n",
        "          name = 'down_conv{}'.format(i)\n",
        "          outListDown = []\n",
        "          for _ in range(step):\n",
        "            outListDown.append(filterList[i])\n",
        "          setattr(self, name, DownBlock(filterList[i-1], outListDown, step, dropout_prob))\"\"\"\n",
        "\n",
        "\n",
        "        # Bottleneck\n",
        "        bottleList = step*[filterList[-1]]\n",
        "        self.convlstm = ConvLSTM(filterList[-2], bottleList, kernel_sizes=[5, 3, 1], step=step)\n",
        "\n",
        "        \"\"\"# Upsampling Path\n",
        "        for i in range(len(filterList)-2, 0, -1):\n",
        "          name = 'up_conv{}'.format(i)\n",
        "          outListUp = []\n",
        "          for _ in range(step):\n",
        "            outListUp.append(filterList[i])\n",
        "          setattr(self, name, UpBlock(filterList[i] + filterList[i+1], outListUp, step, dropout_prob))\"\"\"\n",
        "\n",
        "        # Final Convolution\n",
        "        # self.conv_last = nn.Conv2d(filterList[-1], out_classes, kernel_size=3, stride=1, padding=1)\n",
        "        # self.sigmoid_layer = nn.Sigmoid()\n",
        "\n",
        "    def forward(self, x):\n",
        "        \"\"\"for i in range(1, self.filterSize-1):\n",
        "          x, skip_out = getattr(self, 'down_conv{}'.format(i))(x)\n",
        "          setattr(self, 'skip_out{}'.format(i), skip_out)\"\"\"\n",
        "\n",
        "        x = self.convlstm(x)\n",
        "\n",
        "        \"\"\"for i in range(self.filterSize-2, 0, -1):\n",
        "          x = getattr(self, 'up_conv{}'.format(i))(x, getattr(self, 'skip_out{}'.format(i)))\"\"\"\n",
        "\n",
        "        # x = self.conv_last(x)\n",
        "        # x = self.sigmoid_layer(x)\n",
        "        # x = [ (Nb, 1, Ny, Nx), (Nb, 1, Ny, Nx), ...]\n",
        "        x = torch.cat(x, dim=1)\n",
        "\n",
        "        return x"
      ],
      "metadata": {
        "id": "_7br6ZrJ90sy"
      },
      "execution_count": null,
      "outputs": []
    },
    {
      "cell_type": "code",
      "execution_count": null,
      "metadata": {
        "id": "n6_-s9JxsQyT",
        "outputId": "834ee78a-ba66-4771-fa48-41dc66c8a518",
        "colab": {
          "base_uri": "https://localhost:8080/"
        }
      },
      "outputs": [
        {
          "output_type": "stream",
          "name": "stdout",
          "text": [
            "Training Dataset Shapes: (900, 19, 64, 64, 1), (900, 19, 64, 64, 1)\n",
            "Validation Dataset Shapes: (100, 19, 64, 64, 1), (100, 19, 64, 64, 1)\n"
          ]
        }
      ],
      "source": [
        "import numpy as np\n",
        "import matplotlib.pyplot as plt\n",
        "\n",
        "import tensorflow as tf\n",
        "from tensorflow import keras\n",
        "from tensorflow.keras import layers\n",
        "\n",
        "import io\n",
        "import imageio\n",
        "from IPython.display import Image, display\n",
        "from ipywidgets import widgets, Layout, HBox\n",
        "\n",
        "# Download and load the dataset.\n",
        "fpath = keras.utils.get_file(\n",
        "    \"moving_mnist.npy\",\n",
        "    \"http://www.cs.toronto.edu/~nitish/unsupervised_video/mnist_test_seq.npy\",\n",
        ")\n",
        "dataset = np.load(fpath)\n",
        "\n",
        "# Swap the axes representing the number of frames and number of data samples.\n",
        "dataset = np.swapaxes(dataset, 0, 1)\n",
        "# We'll pick out 1000 of the 10000 total examples and use those.\n",
        "dataset = dataset[:1000, ...]\n",
        "# Add a channel dimension since the images are grayscale.\n",
        "dataset = np.expand_dims(dataset, axis=-1)\n",
        "\n",
        "# Split into train and validation sets using indexing to optimize memory.\n",
        "indexes = np.arange(dataset.shape[0])\n",
        "np.random.shuffle(indexes)\n",
        "train_index = indexes[: int(0.9 * dataset.shape[0])]\n",
        "val_index = indexes[int(0.9 * dataset.shape[0]) :]\n",
        "train_dataset = dataset[train_index]\n",
        "val_dataset = dataset[val_index]\n",
        "\n",
        "# Normalize the data to the 0-1 range.\n",
        "train_dataset = train_dataset / 255\n",
        "val_dataset = val_dataset / 255\n",
        "\n",
        "# We'll define a helper function to shift the frames, where\n",
        "# `x` is frames 0 to n - 1, and `y` is frames 1 to n.\n",
        "def create_shifted_frames(data):\n",
        "    x = data[:, 0 : data.shape[1] - 1, :, :, :]\n",
        "    y = data[:, 1 : data.shape[1], :, :, :]\n",
        "    return x, y\n",
        "\n",
        "\n",
        "# Apply the processing function to the datasets.\n",
        "x_train, y_train = create_shifted_frames(train_dataset)\n",
        "x_val, y_val = create_shifted_frames(val_dataset)\n",
        "\n",
        "# Inspect the dataset.\n",
        "print(\"Training Dataset Shapes: \" + str(x_train.shape) + \", \" + str(y_train.shape))\n",
        "print(\"Validation Dataset Shapes: \" + str(x_val.shape) + \", \" + str(y_val.shape))"
      ]
    },
    {
      "cell_type": "code",
      "source": [
        "from torch.utils.data import Dataset\n",
        "\n",
        "class DataClass(Dataset):\n",
        "\n",
        "    def __init__(self, a, b):\n",
        "        self.imgs = a\n",
        "        self.label = b\n",
        "\n",
        "    def __len__(self):\n",
        "        return len(self.imgs)\n",
        "\n",
        "    def __getitem__(self, idx):\n",
        "        return self.imgs[idx], self.label[idx]"
      ],
      "metadata": {
        "id": "9nK-MlWeZBYY"
      },
      "execution_count": null,
      "outputs": []
    },
    {
      "cell_type": "code",
      "source": [
        "from torch.utils.data import random_split\n",
        "\n",
        "def get_dataloaders(train_dataset, val_dataset, dataloader_workers: int = 2, batch_size: int = 8):\n",
        "    \n",
        "    kwargs = {'pin_memory': True, 'num_workers': dataloader_workers}\n",
        "    train_loader = torch.utils.data.DataLoader(\n",
        "        train_dataset,\n",
        "        batch_size=batch_size,\n",
        "        shuffle=False,\n",
        "        drop_last=False,\n",
        "        **kwargs\n",
        "    )\n",
        "    val_loader = torch.utils.data.DataLoader(\n",
        "        val_dataset,\n",
        "        batch_size=batch_size,\n",
        "        drop_last=False,\n",
        "        shuffle=False,\n",
        "        **kwargs\n",
        "    )\n",
        "    return {'train': train_loader, 'val': val_loader}"
      ],
      "metadata": {
        "id": "v1OiryhZEzBd"
      },
      "execution_count": null,
      "outputs": []
    },
    {
      "cell_type": "code",
      "source": [
        "def calc_loss(target, pred, loss_fn):\n",
        "    loss = loss_fn(pred, target)\n",
        "    return loss"
      ],
      "metadata": {
        "id": "qyz_N6F_JR0O"
      },
      "execution_count": null,
      "outputs": []
    },
    {
      "cell_type": "code",
      "source": [
        "def plot_training(total_loss):\n",
        "    plt.plot(total_loss[\"train\"], color='blue')\n",
        "    plt.title(\"Loss\")\n",
        "    plt.xlabel('epoch')\n",
        "    plt.ylabel('loss')\n",
        "    plt.plot(total_loss[\"val\"], color='red')\n",
        "    plt.legend(['train_loss', 'val_loss'])\n",
        "    plt.show()"
      ],
      "metadata": {
        "id": "Ex5A4PJ6Jt3y"
      },
      "execution_count": null,
      "outputs": []
    },
    {
      "cell_type": "markdown",
      "metadata": {
        "id": "ted192xrsQyW"
      },
      "source": [
        "## Model Construction\n",
        "\n",
        "To build a Convolutional LSTM model, we will use the\n",
        "`ConvLSTM2D` layer, which will accept inputs of shape\n",
        "`(batch_size, num_frames, width, height, channels)`, and return\n",
        "a prediction movie of the same shape."
      ]
    },
    {
      "cell_type": "code",
      "source": [
        "!pip install torchmetrics"
      ],
      "metadata": {
        "colab": {
          "base_uri": "https://localhost:8080/"
        },
        "id": "J8jjqP6LK3DY",
        "outputId": "acd0d956-ad5c-4869-895a-bee698ffc8f8"
      },
      "execution_count": null,
      "outputs": [
        {
          "output_type": "stream",
          "name": "stdout",
          "text": [
            "Looking in indexes: https://pypi.org/simple, https://us-python.pkg.dev/colab-wheels/public/simple/\n",
            "Requirement already satisfied: torchmetrics in /usr/local/lib/python3.9/dist-packages (0.11.4)\n",
            "Requirement already satisfied: torch>=1.8.1 in /usr/local/lib/python3.9/dist-packages (from torchmetrics) (1.13.1+cu116)\n",
            "Requirement already satisfied: numpy>=1.17.2 in /usr/local/lib/python3.9/dist-packages (from torchmetrics) (1.22.4)\n",
            "Requirement already satisfied: packaging in /usr/local/lib/python3.9/dist-packages (from torchmetrics) (23.0)\n",
            "Requirement already satisfied: typing-extensions in /usr/local/lib/python3.9/dist-packages (from torch>=1.8.1->torchmetrics) (4.5.0)\n"
          ]
        }
      ]
    },
    {
      "cell_type": "code",
      "source": [
        "import time\n",
        "from tqdm import tqdm\n",
        "from torchmetrics import Accuracy, F1Score, Precision, Recall, MetricCollection\n",
        "\n",
        "\n",
        "def train_model(model, dataloaders, use_cuda, epochs, optimizer, checkpoint_path_model = \"/content/current_best_do.pth\", checkpoint_path_model_train = \"/content/train_current_best.pth\", trained_epochs: int = 0, tb_writer = None):\n",
        "    best_loss = 1e10\n",
        "    best_loss2 = 1e10\n",
        "    total_acc = {key: [] for key in ['train', 'val']}\n",
        "    total_loss = {key: [] for key in ['train', 'val']}\n",
        "    loss_fn = nn.BCELoss().to(device)\n",
        "    optimizer = optimizer\n",
        "    since = time.time()\n",
        "\n",
        "    metrics = MetricCollection([])\n",
        "\n",
        "    train_metrics = metrics.clone(prefix=\"train\")\n",
        "    val_metrics = metrics.clone(prefix=\"val\")\n",
        "\n",
        "    # iterate over all epochs\n",
        "    for epoch in range(trained_epochs, epochs):\n",
        "        print(f'Epoch {epoch+1}/{epochs}')\n",
        "        print('-' * 10)\n",
        "\n",
        "        # Each epoch has a training and validation phase\n",
        "        for phase in ['train', 'val']:\n",
        "            if phase == 'train':\n",
        "                model.train()\n",
        "            else:\n",
        "                model.eval()\n",
        "\n",
        "            running_loss = 0\n",
        "            checking = 0\n",
        "            for dic in tqdm(dataloaders[phase], total=len(dataloaders[phase])):\n",
        "                inputs, labels = dic\n",
        "                labels = labels.reshape([labels.shape[0], labels.shape[1], labels.shape[2], labels.shape[3]])\n",
        "\n",
        "                if use_cuda:\n",
        "                    inputs = inputs.to('cuda', dtype=torch.float)  # [batch_size, in_channels, H, W]\n",
        "                    labels = labels.to('cuda', dtype=torch.float)\n",
        "                \n",
        "                checking += 1\n",
        "                \n",
        "                optimizer.zero_grad()  # zero the parameter gradients\n",
        "\n",
        "                # forward pass: compute prediction and the loss btw prediction and true label\n",
        "                # track history only in train\n",
        "                with torch.set_grad_enabled(phase == 'train'):\n",
        "                    outputs = model(inputs)\n",
        "                    if checking == len(dataloaders[phase])-1 and phase == 'train':\n",
        "                      save_label_img = labels.cpu().detach().numpy()\n",
        "                      save_input_img = inputs.cpu().detach().numpy()\n",
        "                      save_out_img = outputs.cpu().detach().numpy()\n",
        "                    \n",
        "                    # output is binary [batch size, n_classes, H, W], target is class [batch size, 1, H, W]\n",
        "                    loss = calc_loss(labels, outputs, loss_fn)\n",
        "\n",
        "                    # backward + optimize only if in training phase (no need for torch.no_grad in this training pass)\n",
        "                    if phase == 'train':\n",
        "                        loss.backward()\n",
        "                        optimizer.step()\n",
        "\n",
        "                # statistics\n",
        "                running_loss += loss * outputs.size(0)\n",
        "                preds_cpu = outputs.cpu()\n",
        "                labels_cpu = labels.cpu()\n",
        "                if phase == \"train\":\n",
        "                    train_metrics.update(preds_cpu, labels_cpu)\n",
        "                elif phase == \"val\":\n",
        "                    val_metrics.update(preds_cpu, labels_cpu)\n",
        "\n",
        "            if phase == \"train\":\n",
        "                computed_metrics = train_metrics.compute()\n",
        "                train_metrics.reset()\n",
        "            elif phase == \"val\":\n",
        "                computed_metrics = val_metrics.compute()\n",
        "                val_metrics.reset()\n",
        "\n",
        "            epoch_loss = running_loss / len(dataloaders[phase].dataset)\n",
        "            computed_metrics[f\"{phase}Loss\"] = epoch_loss\n",
        "\n",
        "            epoch_summary = f'Epoch {phase} : {epoch+1}'\n",
        "            for k, v in computed_metrics.items():\n",
        "              epoch_summary = f\"{epoch_summary}\\n\\t{k} : {v:.6f}\"\n",
        "\n",
        "            print(epoch_summary)\n",
        "            total_loss[phase].append(computed_metrics[f\"{phase}Loss\"].item())\n",
        "\n",
        "        \n",
        "            # Display metrics in Tensorboard\n",
        "            if tb_writer is not None:\n",
        "                for item in [\"Loss\"]:\n",
        "                    tb_writer.add_scalar(f\"{item}/{phase}\", computed_metrics[f\"{phase}{item}\"], epoch)\n",
        "\n",
        "            # save the model weights in validation phase \n",
        "            if phase == 'val':\n",
        "                if epoch_loss < best_loss:\n",
        "                    print(f\"saving best model to {checkpoint_path_model}\")\n",
        "                    best_loss = epoch_loss\n",
        "                    torch.save(model.state_dict(), checkpoint_path_model)\n",
        "            if phase == 'train':\n",
        "                if epoch_loss < best_loss2:\n",
        "                    print(f\"saving best model to {checkpoint_path_model_train}\")\n",
        "                    best_loss2 = epoch_loss\n",
        "                    torch.save(model.state_dict(), checkpoint_path_model_train)\n",
        "\n",
        "        # Display total time\n",
        "        time_elapsed = time.time() - since\n",
        "        print('Total time elapsed: {:.0f}m {:.0f}s'.format(time_elapsed // 60, time_elapsed % 60))\n",
        "\n",
        "    print('Best val loss: {:4f}'.format(best_loss))\n",
        "\n",
        "    plot_training(total_loss)\n",
        "\n",
        "    # load best model weights\n",
        "    model.load_state_dict(torch.load(checkpoint_path_model))\n",
        "\n",
        "    return model, save_input_img, save_label_img, save_out_img"
      ],
      "metadata": {
        "id": "VI-wqmP6G3tR"
      },
      "execution_count": null,
      "outputs": []
    },
    {
      "cell_type": "code",
      "source": [
        "device = torch.device('cuda:0' if torch.cuda.is_available() else 'cpu')\n",
        "torch.cuda.empty_cache()\n",
        "\n",
        "# Define modifiable training hyperparameters.\n",
        "epochs = 20\n",
        "batch_size = 4\n",
        "learning_rate = 1e-3\n",
        "weight_decay = 1e-5\n",
        "no_of_seq = 19\n",
        "model2 = UNet(filterList=[1, 64], step=3, dropout_prob=0.0, out_classes=no_of_seq)\n",
        "model2 = model2.to(device, dtype=torch.float)\n",
        "data_train = DataClass(x_train[:, :no_of_seq, :, :], y_train[:, :no_of_seq, :, :])\n",
        "data_val = DataClass(x_val[:, :no_of_seq, :, :], y_val[:, :no_of_seq, :, :])\n",
        "dataloaders = get_dataloaders(data_train, data_val, batch_size=batch_size)\n",
        "optimizer = torch.optim.Adam(params=model2.parameters(), lr=learning_rate, weight_decay=weight_decay)\n",
        "\n",
        "\n",
        "# Fit the model to the training data.\n",
        "_, input_img, label_img, out_img = train_model(\n",
        "    model2,\n",
        "    dataloaders,\n",
        "    torch.cuda.is_available(),\n",
        "    epochs=epochs,\n",
        "    optimizer=optimizer,\n",
        "    checkpoint_path_model = \"/content/current_best.pth\",\n",
        "    checkpoint_path_model_train = \"/content/train_current_best.pth\"\n",
        ")"
      ],
      "metadata": {
        "colab": {
          "base_uri": "https://localhost:8080/",
          "height": 1000
        },
        "id": "5HNqSwPzFjrS",
        "outputId": "7d9aa1d9-7033-48e5-91d5-d2d6c43e225e"
      },
      "execution_count": null,
      "outputs": [
        {
          "metadata": {
            "tags": null
          },
          "name": "stdout",
          "output_type": "stream",
          "text": [
            "Epoch 1/20\n",
            "----------\n"
          ]
        },
        {
          "metadata": {
            "tags": null
          },
          "name": "stderr",
          "output_type": "stream",
          "text": [
            "100%|██████████| 225/225 [02:36<00:00,  1.44it/s]\n"
          ]
        },
        {
          "metadata": {
            "tags": null
          },
          "name": "stdout",
          "output_type": "stream",
          "text": [
            "Epoch train : 1\n",
            "\ttrainMulticlassAccuracy : 0.000000\n",
            "\ttrainMulticlassF1Score : 0.000000\n",
            "\ttrainMulticlassPrecision : 0.000000\n",
            "\ttrainMulticlassRecall : 0.000000\n",
            "\ttrainLoss : 0.170286\n",
            "saving best model to /content/train_current_best.pth\n"
          ]
        },
        {
          "metadata": {
            "tags": null
          },
          "name": "stderr",
          "output_type": "stream",
          "text": [
            "100%|██████████| 25/25 [00:06<00:00,  3.90it/s]\n"
          ]
        },
        {
          "metadata": {
            "tags": null
          },
          "name": "stdout",
          "output_type": "stream",
          "text": [
            "Epoch val : 1\n",
            "\tvalMulticlassAccuracy : 0.000000\n",
            "\tvalMulticlassF1Score : 0.000000\n",
            "\tvalMulticlassPrecision : 0.000000\n",
            "\tvalMulticlassRecall : 0.000000\n",
            "\tvalLoss : 0.420255\n",
            "saving best model to /content/current_best.pth\n",
            "Total time elapsed: 2m 43s\n",
            "Epoch 2/20\n",
            "----------\n"
          ]
        },
        {
          "output_type": "stream",
          "name": "stderr",
          "text": [
            "100%|██████████| 225/225 [02:38<00:00,  1.42it/s]\n"
          ]
        },
        {
          "output_type": "stream",
          "name": "stdout",
          "text": [
            "Epoch train : 2\n",
            "\ttrainMulticlassAccuracy : 0.000000\n",
            "\ttrainMulticlassF1Score : 0.000000\n",
            "\ttrainMulticlassPrecision : 0.000000\n",
            "\ttrainMulticlassRecall : 0.000000\n",
            "\ttrainLoss : 0.074460\n",
            "saving best model to /content/train_current_best.pth\n"
          ]
        },
        {
          "output_type": "stream",
          "name": "stderr",
          "text": [
            "100%|██████████| 25/25 [00:06<00:00,  3.86it/s]\n"
          ]
        },
        {
          "output_type": "stream",
          "name": "stdout",
          "text": [
            "Epoch val : 2\n",
            "\tvalMulticlassAccuracy : 0.000000\n",
            "\tvalMulticlassF1Score : 0.000000\n",
            "\tvalMulticlassPrecision : 0.000000\n",
            "\tvalMulticlassRecall : 0.000000\n",
            "\tvalLoss : 0.116760\n",
            "saving best model to /content/current_best.pth\n",
            "Total time elapsed: 5m 28s\n",
            "Epoch 3/20\n",
            "----------\n"
          ]
        },
        {
          "output_type": "stream",
          "name": "stderr",
          "text": [
            "100%|██████████| 225/225 [02:38<00:00,  1.42it/s]\n"
          ]
        },
        {
          "output_type": "stream",
          "name": "stdout",
          "text": [
            "Epoch train : 3\n",
            "\ttrainMulticlassAccuracy : 0.000000\n",
            "\ttrainMulticlassF1Score : 0.000000\n",
            "\ttrainMulticlassPrecision : 0.000000\n",
            "\ttrainMulticlassRecall : 0.000000\n",
            "\ttrainLoss : 0.070878\n",
            "saving best model to /content/train_current_best.pth\n"
          ]
        },
        {
          "output_type": "stream",
          "name": "stderr",
          "text": [
            "100%|██████████| 25/25 [00:06<00:00,  3.88it/s]\n"
          ]
        },
        {
          "output_type": "stream",
          "name": "stdout",
          "text": [
            "Epoch val : 3\n",
            "\tvalMulticlassAccuracy : 0.000000\n",
            "\tvalMulticlassF1Score : 0.000000\n",
            "\tvalMulticlassPrecision : 0.000000\n",
            "\tvalMulticlassRecall : 0.000000\n",
            "\tvalLoss : 0.208430\n",
            "Total time elapsed: 8m 13s\n",
            "Epoch 4/20\n",
            "----------\n"
          ]
        },
        {
          "output_type": "stream",
          "name": "stderr",
          "text": [
            "100%|██████████| 225/225 [02:38<00:00,  1.42it/s]\n"
          ]
        },
        {
          "output_type": "stream",
          "name": "stdout",
          "text": [
            "Epoch train : 4\n",
            "\ttrainMulticlassAccuracy : 0.000000\n",
            "\ttrainMulticlassF1Score : 0.000000\n",
            "\ttrainMulticlassPrecision : 0.000000\n",
            "\ttrainMulticlassRecall : 0.000000\n",
            "\ttrainLoss : 0.068856\n",
            "saving best model to /content/train_current_best.pth\n"
          ]
        },
        {
          "output_type": "stream",
          "name": "stderr",
          "text": [
            "100%|██████████| 25/25 [00:06<00:00,  3.87it/s]\n"
          ]
        },
        {
          "output_type": "stream",
          "name": "stdout",
          "text": [
            "Epoch val : 4\n",
            "\tvalMulticlassAccuracy : 0.000000\n",
            "\tvalMulticlassF1Score : 0.000000\n",
            "\tvalMulticlassPrecision : 0.000000\n",
            "\tvalMulticlassRecall : 0.000000\n",
            "\tvalLoss : 0.134474\n",
            "Total time elapsed: 10m 58s\n",
            "Epoch 5/20\n",
            "----------\n"
          ]
        },
        {
          "output_type": "stream",
          "name": "stderr",
          "text": [
            "100%|██████████| 225/225 [02:38<00:00,  1.42it/s]\n"
          ]
        },
        {
          "output_type": "stream",
          "name": "stdout",
          "text": [
            "Epoch train : 5\n",
            "\ttrainMulticlassAccuracy : 0.000000\n",
            "\ttrainMulticlassF1Score : 0.000000\n",
            "\ttrainMulticlassPrecision : 0.000000\n",
            "\ttrainMulticlassRecall : 0.000000\n",
            "\ttrainLoss : 0.067619\n",
            "saving best model to /content/train_current_best.pth\n"
          ]
        },
        {
          "output_type": "stream",
          "name": "stderr",
          "text": [
            "100%|██████████| 25/25 [00:06<00:00,  3.89it/s]\n"
          ]
        },
        {
          "output_type": "stream",
          "name": "stdout",
          "text": [
            "Epoch val : 5\n",
            "\tvalMulticlassAccuracy : 0.000000\n",
            "\tvalMulticlassF1Score : 0.000000\n",
            "\tvalMulticlassPrecision : 0.000000\n",
            "\tvalMulticlassRecall : 0.000000\n",
            "\tvalLoss : 0.192199\n",
            "Total time elapsed: 13m 43s\n",
            "Epoch 6/20\n",
            "----------\n"
          ]
        },
        {
          "output_type": "stream",
          "name": "stderr",
          "text": [
            "100%|██████████| 225/225 [02:38<00:00,  1.42it/s]\n"
          ]
        },
        {
          "output_type": "stream",
          "name": "stdout",
          "text": [
            "Epoch train : 6\n",
            "\ttrainMulticlassAccuracy : 0.000000\n",
            "\ttrainMulticlassF1Score : 0.000000\n",
            "\ttrainMulticlassPrecision : 0.000000\n",
            "\ttrainMulticlassRecall : 0.000000\n",
            "\ttrainLoss : 0.066661\n",
            "saving best model to /content/train_current_best.pth\n"
          ]
        },
        {
          "output_type": "stream",
          "name": "stderr",
          "text": [
            "100%|██████████| 25/25 [00:06<00:00,  3.89it/s]\n"
          ]
        },
        {
          "output_type": "stream",
          "name": "stdout",
          "text": [
            "Epoch val : 6\n",
            "\tvalMulticlassAccuracy : 0.000000\n",
            "\tvalMulticlassF1Score : 0.000000\n",
            "\tvalMulticlassPrecision : 0.000000\n",
            "\tvalMulticlassRecall : 0.000000\n",
            "\tvalLoss : 0.219509\n",
            "Total time elapsed: 16m 28s\n",
            "Epoch 7/20\n",
            "----------\n"
          ]
        },
        {
          "output_type": "stream",
          "name": "stderr",
          "text": [
            "100%|██████████| 225/225 [02:38<00:00,  1.42it/s]\n"
          ]
        },
        {
          "output_type": "stream",
          "name": "stdout",
          "text": [
            "Epoch train : 7\n",
            "\ttrainMulticlassAccuracy : 0.000000\n",
            "\ttrainMulticlassF1Score : 0.000000\n",
            "\ttrainMulticlassPrecision : 0.000000\n",
            "\ttrainMulticlassRecall : 0.000000\n",
            "\ttrainLoss : 0.065845\n",
            "saving best model to /content/train_current_best.pth\n"
          ]
        },
        {
          "output_type": "stream",
          "name": "stderr",
          "text": [
            "100%|██████████| 25/25 [00:06<00:00,  3.88it/s]\n"
          ]
        },
        {
          "output_type": "stream",
          "name": "stdout",
          "text": [
            "Epoch val : 7\n",
            "\tvalMulticlassAccuracy : 0.000000\n",
            "\tvalMulticlassF1Score : 0.000000\n",
            "\tvalMulticlassPrecision : 0.000000\n",
            "\tvalMulticlassRecall : 0.000000\n",
            "\tvalLoss : 0.350056\n",
            "Total time elapsed: 19m 13s\n",
            "Epoch 8/20\n",
            "----------\n"
          ]
        },
        {
          "output_type": "stream",
          "name": "stderr",
          "text": [
            "100%|██████████| 225/225 [02:38<00:00,  1.42it/s]\n"
          ]
        },
        {
          "output_type": "stream",
          "name": "stdout",
          "text": [
            "Epoch train : 8\n",
            "\ttrainMulticlassAccuracy : 0.000000\n",
            "\ttrainMulticlassF1Score : 0.000000\n",
            "\ttrainMulticlassPrecision : 0.000000\n",
            "\ttrainMulticlassRecall : 0.000000\n",
            "\ttrainLoss : 0.065141\n",
            "saving best model to /content/train_current_best.pth\n"
          ]
        },
        {
          "output_type": "stream",
          "name": "stderr",
          "text": [
            "100%|██████████| 25/25 [00:06<00:00,  3.84it/s]\n"
          ]
        },
        {
          "output_type": "stream",
          "name": "stdout",
          "text": [
            "Epoch val : 8\n",
            "\tvalMulticlassAccuracy : 0.000000\n",
            "\tvalMulticlassF1Score : 0.000000\n",
            "\tvalMulticlassPrecision : 0.000000\n",
            "\tvalMulticlassRecall : 0.000000\n",
            "\tvalLoss : 0.273394\n",
            "Total time elapsed: 21m 57s\n",
            "Epoch 9/20\n",
            "----------\n"
          ]
        },
        {
          "output_type": "stream",
          "name": "stderr",
          "text": [
            "100%|██████████| 225/225 [02:38<00:00,  1.42it/s]\n"
          ]
        },
        {
          "output_type": "stream",
          "name": "stdout",
          "text": [
            "Epoch train : 9\n",
            "\ttrainMulticlassAccuracy : 0.000000\n",
            "\ttrainMulticlassF1Score : 0.000000\n",
            "\ttrainMulticlassPrecision : 0.000000\n",
            "\ttrainMulticlassRecall : 0.000000\n",
            "\ttrainLoss : 0.064568\n",
            "saving best model to /content/train_current_best.pth\n"
          ]
        },
        {
          "output_type": "stream",
          "name": "stderr",
          "text": [
            "100%|██████████| 25/25 [00:06<00:00,  3.88it/s]\n"
          ]
        },
        {
          "output_type": "stream",
          "name": "stdout",
          "text": [
            "Epoch val : 9\n",
            "\tvalMulticlassAccuracy : 0.000000\n",
            "\tvalMulticlassF1Score : 0.000000\n",
            "\tvalMulticlassPrecision : 0.000000\n",
            "\tvalMulticlassRecall : 0.000000\n",
            "\tvalLoss : 0.263919\n",
            "Total time elapsed: 24m 43s\n",
            "Epoch 10/20\n",
            "----------\n"
          ]
        },
        {
          "output_type": "stream",
          "name": "stderr",
          "text": [
            "100%|██████████| 225/225 [02:38<00:00,  1.42it/s]\n"
          ]
        },
        {
          "output_type": "stream",
          "name": "stdout",
          "text": [
            "Epoch train : 10\n",
            "\ttrainMulticlassAccuracy : 0.000000\n",
            "\ttrainMulticlassF1Score : 0.000000\n",
            "\ttrainMulticlassPrecision : 0.000000\n",
            "\ttrainMulticlassRecall : 0.000000\n",
            "\ttrainLoss : 0.063997\n",
            "saving best model to /content/train_current_best.pth\n"
          ]
        },
        {
          "output_type": "stream",
          "name": "stderr",
          "text": [
            "100%|██████████| 25/25 [00:06<00:00,  3.86it/s]\n"
          ]
        },
        {
          "output_type": "stream",
          "name": "stdout",
          "text": [
            "Epoch val : 10\n",
            "\tvalMulticlassAccuracy : 0.000000\n",
            "\tvalMulticlassF1Score : 0.000000\n",
            "\tvalMulticlassPrecision : 0.000000\n",
            "\tvalMulticlassRecall : 0.000000\n",
            "\tvalLoss : 0.188934\n",
            "Total time elapsed: 27m 28s\n",
            "Epoch 11/20\n",
            "----------\n"
          ]
        },
        {
          "output_type": "stream",
          "name": "stderr",
          "text": [
            "100%|██████████| 225/225 [02:38<00:00,  1.42it/s]\n"
          ]
        },
        {
          "output_type": "stream",
          "name": "stdout",
          "text": [
            "Epoch train : 11\n",
            "\ttrainMulticlassAccuracy : 0.000000\n",
            "\ttrainMulticlassF1Score : 0.000000\n",
            "\ttrainMulticlassPrecision : 0.000000\n",
            "\ttrainMulticlassRecall : 0.000000\n",
            "\ttrainLoss : 0.063555\n",
            "saving best model to /content/train_current_best.pth\n"
          ]
        },
        {
          "output_type": "stream",
          "name": "stderr",
          "text": [
            "100%|██████████| 25/25 [00:06<00:00,  3.87it/s]\n"
          ]
        },
        {
          "output_type": "stream",
          "name": "stdout",
          "text": [
            "Epoch val : 11\n",
            "\tvalMulticlassAccuracy : 0.000000\n",
            "\tvalMulticlassF1Score : 0.000000\n",
            "\tvalMulticlassPrecision : 0.000000\n",
            "\tvalMulticlassRecall : 0.000000\n",
            "\tvalLoss : 0.258777\n",
            "Total time elapsed: 30m 13s\n",
            "Epoch 12/20\n",
            "----------\n"
          ]
        },
        {
          "output_type": "stream",
          "name": "stderr",
          "text": [
            "100%|██████████| 225/225 [02:38<00:00,  1.42it/s]\n"
          ]
        },
        {
          "output_type": "stream",
          "name": "stdout",
          "text": [
            "Epoch train : 12\n",
            "\ttrainMulticlassAccuracy : 0.000000\n",
            "\ttrainMulticlassF1Score : 0.000000\n",
            "\ttrainMulticlassPrecision : 0.000000\n",
            "\ttrainMulticlassRecall : 0.000000\n",
            "\ttrainLoss : 0.063052\n",
            "saving best model to /content/train_current_best.pth\n"
          ]
        },
        {
          "output_type": "stream",
          "name": "stderr",
          "text": [
            "100%|██████████| 25/25 [00:06<00:00,  3.88it/s]\n"
          ]
        },
        {
          "output_type": "stream",
          "name": "stdout",
          "text": [
            "Epoch val : 12\n",
            "\tvalMulticlassAccuracy : 0.000000\n",
            "\tvalMulticlassF1Score : 0.000000\n",
            "\tvalMulticlassPrecision : 0.000000\n",
            "\tvalMulticlassRecall : 0.000000\n",
            "\tvalLoss : 0.314464\n",
            "Total time elapsed: 32m 58s\n",
            "Epoch 13/20\n",
            "----------\n"
          ]
        },
        {
          "output_type": "stream",
          "name": "stderr",
          "text": [
            "100%|██████████| 225/225 [02:38<00:00,  1.42it/s]\n"
          ]
        },
        {
          "output_type": "stream",
          "name": "stdout",
          "text": [
            "Epoch train : 13\n",
            "\ttrainMulticlassAccuracy : 0.000000\n",
            "\ttrainMulticlassF1Score : 0.000000\n",
            "\ttrainMulticlassPrecision : 0.000000\n",
            "\ttrainMulticlassRecall : 0.000000\n",
            "\ttrainLoss : 0.062570\n",
            "saving best model to /content/train_current_best.pth\n"
          ]
        },
        {
          "output_type": "stream",
          "name": "stderr",
          "text": [
            "100%|██████████| 25/25 [00:06<00:00,  3.88it/s]\n"
          ]
        },
        {
          "output_type": "stream",
          "name": "stdout",
          "text": [
            "Epoch val : 13\n",
            "\tvalMulticlassAccuracy : 0.000000\n",
            "\tvalMulticlassF1Score : 0.000000\n",
            "\tvalMulticlassPrecision : 0.000000\n",
            "\tvalMulticlassRecall : 0.000000\n",
            "\tvalLoss : 0.377559\n",
            "Total time elapsed: 35m 43s\n",
            "Epoch 14/20\n",
            "----------\n"
          ]
        },
        {
          "output_type": "stream",
          "name": "stderr",
          "text": [
            "100%|██████████| 225/225 [02:38<00:00,  1.42it/s]\n"
          ]
        },
        {
          "output_type": "stream",
          "name": "stdout",
          "text": [
            "Epoch train : 14\n",
            "\ttrainMulticlassAccuracy : 0.000000\n",
            "\ttrainMulticlassF1Score : 0.000000\n",
            "\ttrainMulticlassPrecision : 0.000000\n",
            "\ttrainMulticlassRecall : 0.000000\n",
            "\ttrainLoss : 0.062203\n",
            "saving best model to /content/train_current_best.pth\n"
          ]
        },
        {
          "output_type": "stream",
          "name": "stderr",
          "text": [
            "100%|██████████| 25/25 [00:06<00:00,  3.89it/s]\n"
          ]
        },
        {
          "output_type": "stream",
          "name": "stdout",
          "text": [
            "Epoch val : 14\n",
            "\tvalMulticlassAccuracy : 0.000000\n",
            "\tvalMulticlassF1Score : 0.000000\n",
            "\tvalMulticlassPrecision : 0.000000\n",
            "\tvalMulticlassRecall : 0.000000\n",
            "\tvalLoss : 0.223182\n",
            "Total time elapsed: 38m 28s\n",
            "Epoch 15/20\n",
            "----------\n"
          ]
        },
        {
          "output_type": "stream",
          "name": "stderr",
          "text": [
            "100%|██████████| 225/225 [02:38<00:00,  1.42it/s]\n"
          ]
        },
        {
          "output_type": "stream",
          "name": "stdout",
          "text": [
            "Epoch train : 15\n",
            "\ttrainMulticlassAccuracy : 0.000000\n",
            "\ttrainMulticlassF1Score : 0.000000\n",
            "\ttrainMulticlassPrecision : 0.000000\n",
            "\ttrainMulticlassRecall : 0.000000\n",
            "\ttrainLoss : 0.061843\n",
            "saving best model to /content/train_current_best.pth\n"
          ]
        },
        {
          "output_type": "stream",
          "name": "stderr",
          "text": [
            "100%|██████████| 25/25 [00:06<00:00,  3.89it/s]\n"
          ]
        },
        {
          "output_type": "stream",
          "name": "stdout",
          "text": [
            "Epoch val : 15\n",
            "\tvalMulticlassAccuracy : 0.000000\n",
            "\tvalMulticlassF1Score : 0.000000\n",
            "\tvalMulticlassPrecision : 0.000000\n",
            "\tvalMulticlassRecall : 0.000000\n",
            "\tvalLoss : 0.116922\n",
            "Total time elapsed: 41m 14s\n",
            "Epoch 16/20\n",
            "----------\n"
          ]
        },
        {
          "output_type": "stream",
          "name": "stderr",
          "text": [
            "100%|██████████| 225/225 [02:38<00:00,  1.42it/s]\n"
          ]
        },
        {
          "output_type": "stream",
          "name": "stdout",
          "text": [
            "Epoch train : 16\n",
            "\ttrainMulticlassAccuracy : 0.000000\n",
            "\ttrainMulticlassF1Score : 0.000000\n",
            "\ttrainMulticlassPrecision : 0.000000\n",
            "\ttrainMulticlassRecall : 0.000000\n",
            "\ttrainLoss : 0.061521\n",
            "saving best model to /content/train_current_best.pth\n"
          ]
        },
        {
          "output_type": "stream",
          "name": "stderr",
          "text": [
            "100%|██████████| 25/25 [00:06<00:00,  3.86it/s]\n"
          ]
        },
        {
          "output_type": "stream",
          "name": "stdout",
          "text": [
            "Epoch val : 16\n",
            "\tvalMulticlassAccuracy : 0.000000\n",
            "\tvalMulticlassF1Score : 0.000000\n",
            "\tvalMulticlassPrecision : 0.000000\n",
            "\tvalMulticlassRecall : 0.000000\n",
            "\tvalLoss : 0.117411\n",
            "Total time elapsed: 43m 59s\n",
            "Epoch 17/20\n",
            "----------\n"
          ]
        },
        {
          "output_type": "stream",
          "name": "stderr",
          "text": [
            "100%|██████████| 225/225 [02:38<00:00,  1.42it/s]\n"
          ]
        },
        {
          "output_type": "stream",
          "name": "stdout",
          "text": [
            "Epoch train : 17\n",
            "\ttrainMulticlassAccuracy : 0.000000\n",
            "\ttrainMulticlassF1Score : 0.000000\n",
            "\ttrainMulticlassPrecision : 0.000000\n",
            "\ttrainMulticlassRecall : 0.000000\n",
            "\ttrainLoss : 0.061170\n",
            "saving best model to /content/train_current_best.pth\n"
          ]
        },
        {
          "output_type": "stream",
          "name": "stderr",
          "text": [
            "100%|██████████| 25/25 [00:06<00:00,  3.88it/s]\n"
          ]
        },
        {
          "output_type": "stream",
          "name": "stdout",
          "text": [
            "Epoch val : 17\n",
            "\tvalMulticlassAccuracy : 0.000000\n",
            "\tvalMulticlassF1Score : 0.000000\n",
            "\tvalMulticlassPrecision : 0.000000\n",
            "\tvalMulticlassRecall : 0.000000\n",
            "\tvalLoss : 0.090379\n",
            "saving best model to /content/current_best.pth\n",
            "Total time elapsed: 46m 44s\n",
            "Epoch 18/20\n",
            "----------\n"
          ]
        },
        {
          "output_type": "stream",
          "name": "stderr",
          "text": [
            "100%|██████████| 225/225 [02:38<00:00,  1.42it/s]\n"
          ]
        },
        {
          "output_type": "stream",
          "name": "stdout",
          "text": [
            "Epoch train : 18\n",
            "\ttrainMulticlassAccuracy : 0.000000\n",
            "\ttrainMulticlassF1Score : 0.000000\n",
            "\ttrainMulticlassPrecision : 0.000000\n",
            "\ttrainMulticlassRecall : 0.000000\n",
            "\ttrainLoss : 0.060915\n",
            "saving best model to /content/train_current_best.pth\n"
          ]
        },
        {
          "output_type": "stream",
          "name": "stderr",
          "text": [
            "100%|██████████| 25/25 [00:06<00:00,  3.88it/s]\n"
          ]
        },
        {
          "output_type": "stream",
          "name": "stdout",
          "text": [
            "Epoch val : 18\n",
            "\tvalMulticlassAccuracy : 0.000000\n",
            "\tvalMulticlassF1Score : 0.000000\n",
            "\tvalMulticlassPrecision : 0.000000\n",
            "\tvalMulticlassRecall : 0.000000\n",
            "\tvalLoss : 0.067231\n",
            "saving best model to /content/current_best.pth\n",
            "Total time elapsed: 49m 29s\n",
            "Epoch 19/20\n",
            "----------\n"
          ]
        },
        {
          "output_type": "stream",
          "name": "stderr",
          "text": [
            "100%|██████████| 225/225 [02:38<00:00,  1.42it/s]\n"
          ]
        },
        {
          "output_type": "stream",
          "name": "stdout",
          "text": [
            "Epoch train : 19\n",
            "\ttrainMulticlassAccuracy : 0.000000\n",
            "\ttrainMulticlassF1Score : 0.000000\n",
            "\ttrainMulticlassPrecision : 0.000000\n",
            "\ttrainMulticlassRecall : 0.000000\n",
            "\ttrainLoss : 0.060722\n",
            "saving best model to /content/train_current_best.pth\n"
          ]
        },
        {
          "output_type": "stream",
          "name": "stderr",
          "text": [
            "100%|██████████| 25/25 [00:06<00:00,  3.88it/s]\n"
          ]
        },
        {
          "output_type": "stream",
          "name": "stdout",
          "text": [
            "Epoch val : 19\n",
            "\tvalMulticlassAccuracy : 0.000000\n",
            "\tvalMulticlassF1Score : 0.000000\n",
            "\tvalMulticlassPrecision : 0.000000\n",
            "\tvalMulticlassRecall : 0.000000\n",
            "\tvalLoss : 0.065576\n",
            "saving best model to /content/current_best.pth\n",
            "Total time elapsed: 52m 14s\n",
            "Epoch 20/20\n",
            "----------\n"
          ]
        },
        {
          "output_type": "stream",
          "name": "stderr",
          "text": [
            "100%|██████████| 225/225 [02:38<00:00,  1.42it/s]\n"
          ]
        },
        {
          "output_type": "stream",
          "name": "stdout",
          "text": [
            "Epoch train : 20\n",
            "\ttrainMulticlassAccuracy : 0.000000\n",
            "\ttrainMulticlassF1Score : 0.000000\n",
            "\ttrainMulticlassPrecision : 0.000000\n",
            "\ttrainMulticlassRecall : 0.000000\n",
            "\ttrainLoss : 0.060585\n",
            "saving best model to /content/train_current_best.pth\n"
          ]
        },
        {
          "output_type": "stream",
          "name": "stderr",
          "text": [
            "100%|██████████| 25/25 [00:06<00:00,  3.88it/s]\n"
          ]
        },
        {
          "output_type": "stream",
          "name": "stdout",
          "text": [
            "Epoch val : 20\n",
            "\tvalMulticlassAccuracy : 0.000000\n",
            "\tvalMulticlassF1Score : 0.000000\n",
            "\tvalMulticlassPrecision : 0.000000\n",
            "\tvalMulticlassRecall : 0.000000\n",
            "\tvalLoss : 0.064656\n",
            "saving best model to /content/current_best.pth\n",
            "Total time elapsed: 54m 60s\n",
            "Best val loss: 0.064656\n"
          ]
        },
        {
          "output_type": "display_data",
          "data": {
            "text/plain": [
              "<Figure size 432x288 with 1 Axes>"
            ],
            "image/png": "[encoded data removed]"
          },
          "metadata": {
            "needs_background": "light"
          }
        }
      ]
    },
    {
      "cell_type": "markdown",
      "metadata": {
        "id": "Buu5O7z-sQyX"
      },
      "source": [
        "## Model Training\n",
        "\n",
        "With our model and data constructed, we can now train the model."
      ]
    },
    {
      "cell_type": "code",
      "source": [
        "print(model2)"
      ],
      "metadata": {
        "colab": {
          "base_uri": "https://localhost:8080/"
        },
        "id": "8CMppCbZ2XRG",
        "outputId": "21d50738-bc93-4a16-be7c-32c2ccc9fac1"
      },
      "execution_count": null,
      "outputs": [
        {
          "output_type": "stream",
          "name": "stdout",
          "text": [
            "UNet(\n",
            "  (convlstm): ConvLSTM(\n",
            "    (relu_layer): ReLU()\n",
            "    (sigmoid_layer): Sigmoid()\n",
            "    (conv_last): Conv2d(64, 1, kernel_size=(3, 3), stride=(1, 1), padding=(1, 1))\n",
            "    (cell0): ConvLSTMCell(\n",
            "      (Wxi): Conv2d(1, 64, kernel_size=(5, 5), stride=(1, 1), padding=(2, 2))\n",
            "      (Uhi): Conv2d(64, 64, kernel_size=(5, 5), stride=(1, 1), padding=(2, 2), bias=False)\n",
            "      (Wxf): Conv2d(1, 64, kernel_size=(5, 5), stride=(1, 1), padding=(2, 2))\n",
            "      (Uhf): Conv2d(64, 64, kernel_size=(5, 5), stride=(1, 1), padding=(2, 2), bias=False)\n",
            "      (Wxc): Conv2d(1, 64, kernel_size=(5, 5), stride=(1, 1), padding=(2, 2))\n",
            "      (Uhc): Conv2d(64, 64, kernel_size=(5, 5), stride=(1, 1), padding=(2, 2), bias=False)\n",
            "      (Wxo): Conv2d(1, 64, kernel_size=(5, 5), stride=(1, 1), padding=(2, 2))\n",
            "      (Uho): Conv2d(64, 64, kernel_size=(5, 5), stride=(1, 1), padding=(2, 2), bias=False)\n",
            "    )\n",
            "    (batchN0): BatchNorm2d(64, eps=1e-05, momentum=0.1, affine=True, track_running_stats=True)\n",
            "    (cell1): ConvLSTMCell(\n",
            "      (Wxi): Conv2d(64, 64, kernel_size=(3, 3), stride=(1, 1), padding=(1, 1))\n",
            "      (Uhi): Conv2d(64, 64, kernel_size=(3, 3), stride=(1, 1), padding=(1, 1), bias=False)\n",
            "      (Wxf): Conv2d(64, 64, kernel_size=(3, 3), stride=(1, 1), padding=(1, 1))\n",
            "      (Uhf): Conv2d(64, 64, kernel_size=(3, 3), stride=(1, 1), padding=(1, 1), bias=False)\n",
            "      (Wxc): Conv2d(64, 64, kernel_size=(3, 3), stride=(1, 1), padding=(1, 1))\n",
            "      (Uhc): Conv2d(64, 64, kernel_size=(3, 3), stride=(1, 1), padding=(1, 1), bias=False)\n",
            "      (Wxo): Conv2d(64, 64, kernel_size=(3, 3), stride=(1, 1), padding=(1, 1))\n",
            "      (Uho): Conv2d(64, 64, kernel_size=(3, 3), stride=(1, 1), padding=(1, 1), bias=False)\n",
            "    )\n",
            "    (batchN1): BatchNorm2d(64, eps=1e-05, momentum=0.1, affine=True, track_running_stats=True)\n",
            "    (cell2): ConvLSTMCell(\n",
            "      (Wxi): Conv2d(64, 64, kernel_size=(1, 1), stride=(1, 1))\n",
            "      (Uhi): Conv2d(64, 64, kernel_size=(1, 1), stride=(1, 1), bias=False)\n",
            "      (Wxf): Conv2d(64, 64, kernel_size=(1, 1), stride=(1, 1))\n",
            "      (Uhf): Conv2d(64, 64, kernel_size=(1, 1), stride=(1, 1), bias=False)\n",
            "      (Wxc): Conv2d(64, 64, kernel_size=(1, 1), stride=(1, 1))\n",
            "      (Uhc): Conv2d(64, 64, kernel_size=(1, 1), stride=(1, 1), bias=False)\n",
            "      (Wxo): Conv2d(64, 64, kernel_size=(1, 1), stride=(1, 1))\n",
            "      (Uho): Conv2d(64, 64, kernel_size=(1, 1), stride=(1, 1), bias=False)\n",
            "    )\n",
            "    (batchN2): BatchNorm2d(64, eps=1e-05, momentum=0.1, affine=True, track_running_stats=True)\n",
            "  )\n",
            ")\n"
          ]
        }
      ]
    },
    {
      "cell_type": "code",
      "source": [
        "print(label_img.shape, input_img.shape, out_img.shape)\n",
        "fig, ax = plt.subplots(1,3)\n",
        "ax[0].imshow(label_img[2, 9])\n",
        "ax[1].imshow(input_img[2, 8])\n",
        "ax[2].imshow(out_img[2, 9])"
      ],
      "metadata": {
        "colab": {
          "base_uri": "https://localhost:8080/",
          "height": 185
        },
        "id": "B6KL8Jy3cMWd",
        "outputId": "fdab9e57-06c1-4699-9a4f-e6d2e30bed11"
      },
      "execution_count": null,
      "outputs": [
        {
          "output_type": "stream",
          "name": "stdout",
          "text": [
            "(4, 10, 64, 64) (4, 10, 64, 64, 1) (4, 10, 64, 64)\n"
          ]
        },
        {
          "output_type": "execute_result",
          "data": {
            "text/plain": [
              "<matplotlib.image.AxesImage at 0x7f380ce0c730>"
            ]
          },
          "metadata": {},
          "execution_count": 103
        },
        {
          "output_type": "display_data",
          "data": {
            "text/plain": [
              "<Figure size 432x288 with 3 Axes>"
            ],
            "image/png": "[encoded data removed]"
          },
          "metadata": {
            "needs_background": "light"
          }
        }
      ]
    },
    {
      "cell_type": "code",
      "source": [
        "# Construct a figure for the original and new frames.\n",
        "fig, axes = plt.subplots(3, 10, figsize=(20, 4))\n",
        "\n",
        "\n",
        "# Plot the original frames.\n",
        "for idx, ax in enumerate(axes[0]):\n",
        "    ax.imshow(np.squeeze(input_img[2, idx]), cmap=\"gray\")\n",
        "    ax.set_title(f\"Frame {idx + 1}\")\n",
        "    ax.axis(\"off\")\n",
        "\n",
        "\n",
        "# Plot the original frames.\n",
        "for idx, ax in enumerate(axes[1]):\n",
        "    ax.imshow(np.squeeze(out_img[2, idx]), cmap=\"gray\")\n",
        "    ax.set_title(f\"Frame {idx + 1}\")\n",
        "    ax.axis(\"off\")\n",
        "\n",
        "\n",
        "\n",
        "    # Plot the original frames.\n",
        "for idx, ax in enumerate(axes[2]):\n",
        "    ax.imshow(np.squeeze(label_img[2, idx]), cmap=\"gray\")\n",
        "    ax.set_title(f\"Frame {idx + 1}\")\n",
        "    ax.axis(\"off\")"
      ],
      "metadata": {
        "colab": {
          "base_uri": "https://localhost:8080/",
          "height": 264
        },
        "id": "CfKXAAdyr8us",
        "outputId": "f87aab93-4d62-4914-d2cc-206846763229"
      },
      "execution_count": null,
      "outputs": [
        {
          "output_type": "display_data",
          "data": {
            "text/plain": [
              "<Figure size 1440x288 with 30 Axes>"
            ],
            "image/png": "[encoded data removed]"
          },
          "metadata": {
            "needs_background": "light"
          }
        }
      ]
    },
    {
      "cell_type": "markdown",
      "metadata": {
        "id": "x-KFafAPsQyY"
      },
      "source": [
        "## Frame Prediction Visualizations\n",
        "\n",
        "With our model now constructed and trained, we can generate\n",
        "some example frame predictions based on a new video.\n",
        "\n",
        "We'll pick a random example from the validation set and\n",
        "then choose the first ten frames from them. From there, we can\n",
        "allow the model to predict 10 new frames, which we can compare\n",
        "to the ground truth frame predictions."
      ]
    },
    {
      "cell_type": "code",
      "execution_count": null,
      "metadata": {
        "id": "-O8gydeBsQyY",
        "colab": {
          "base_uri": "https://localhost:8080/",
          "height": 260
        },
        "outputId": "a02806d8-5b00-4bba-83ad-a7fa764f057e"
      },
      "outputs": [
        {
          "output_type": "display_data",
          "data": {
            "text/plain": [
              "<Figure size 1440x288 with 20 Axes>"
            ],
            "image/png": "[encoded data removed]"
          },
          "metadata": {
            "needs_background": "light"
          }
        }
      ],
      "source": [
        "# Select a random example from the validation dataset.\n",
        "example = val_dataset[np.random.choice(range(len(val_dataset)), size=1)[0]]\n",
        "\n",
        "seq_len = 10\n",
        "# Pick the first/last ten frames from the example.\n",
        "frames = example[:seq_len, ...] # np.transpose(example[:4, ...], (0, 3, 1, 2))\n",
        "original_frames = example[seq_len:, ...]\n",
        "\n",
        "# Predict a new set of 10 frames.\n",
        "model2.load_state_dict(torch.load(\"/content/current_best.pth\"))\n",
        "model2.eval()\n",
        "for _ in range(10):\n",
        "    # Extract the model's prediction and post-process it.\n",
        "    new_prediction = (model2(torch.tensor(np.expand_dims(frames, axis=0)).to(device))).cpu().detach().numpy()\n",
        "    new_prediction = np.squeeze(new_prediction, axis=0)\n",
        "\n",
        "    # fig, axes = plt.subplots(2, seq_len, figsize=(20, 4))\n",
        "\n",
        "    # for idx, ax in enumerate(axes[0]):\n",
        "    #     ax.imshow(np.squeeze(frames[idx]), cmap=\"gray\")\n",
        "    #     ax.set_title(f\"Frame {idx + seq_len + 1}\")\n",
        "    #     ax.axis(\"off\")\n",
        "\n",
        "\n",
        "    # for idx, ax in enumerate(axes[1]):\n",
        "    #     ax.imshow(np.squeeze(new_prediction[idx]), cmap=\"gray\")\n",
        "    #     ax.set_title(f\"Frame {idx + seq_len + 1}\")\n",
        "    #     ax.axis(\"off\")\n",
        "\n",
        "    # # Display the figure.\n",
        "    # plt.show()\n",
        "\n",
        "    # break\n",
        "    predicted_frame = np.expand_dims(new_prediction[-1, ...], axis=0)\n",
        "    predicted_frame = np.expand_dims(predicted_frame, axis=-1)\n",
        "\n",
        "    # Extend the set of prediction frames.\n",
        "    frames = np.concatenate((frames, predicted_frame), axis=0)\n",
        "\n",
        "# Construct a figure for the original and new frames.\n",
        "fig, axes = plt.subplots(2, seq_len, figsize=(20, 4))\n",
        "\n",
        "# Plot the original frames.\n",
        "for idx, ax in enumerate(axes[0]):\n",
        "    ax.imshow(np.squeeze(original_frames[idx]), cmap=\"gray\")\n",
        "    ax.set_title(f\"Frame {idx + seq_len + 1}\")\n",
        "    ax.axis(\"off\")\n",
        "\n",
        "# Plot the new frames.\n",
        "new_frames = frames[seq_len:, ...]\n",
        "for idx, ax in enumerate(axes[1]):\n",
        "    ax.imshow(np.squeeze(new_frames[idx]), cmap=\"gray\")\n",
        "    ax.set_title(f\"Frame {idx + seq_len + 1}\")\n",
        "    ax.axis(\"off\")\n",
        "\n",
        "# Display the figure.\n",
        "plt.show()"
      ]
    }
  ],
  "metadata": {
    "accelerator": "GPU",
    "colab": {
      "provenance": [],
      "machine_shape": "hm"
    },
    "kernelspec": {
      "display_name": "Python 3",
      "language": "python",
      "name": "python3"
    },
    "language_info": {
      "codemirror_mode": {
        "name": "ipython",
        "version": 3
      },
      "file_extension": ".py",
      "mimetype": "text/x-python",
      "name": "python",
      "nbconvert_exporter": "python",
      "pygments_lexer": "ipython3",
      "version": "3.7.0"
    },
    "gpuClass": "standard"
  },
  "nbformat": 4,
  "nbformat_minor": 0
}